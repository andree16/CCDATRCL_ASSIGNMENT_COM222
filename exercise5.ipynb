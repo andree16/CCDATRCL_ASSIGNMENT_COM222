{
  "cells": [
    {
      "cell_type": "markdown",
      "metadata": {
        "id": "view-in-github",
        "colab_type": "text"
      },
      "source": [
        "<a href=\"https://colab.research.google.com/github/andree16/CCDATRCL_ASSIGNMENT_COM222/blob/main/exercise5.ipynb\" target=\"_parent\"><img src=\"https://colab.research.google.com/assets/colab-badge.svg\" alt=\"Open In Colab\"/></a>"
      ]
    },
    {
      "cell_type": "markdown",
      "metadata": {
        "id": "AQvN7RxCLm7u"
      },
      "source": [
        "# Exercise 5"
      ]
    },
    {
      "cell_type": "markdown",
      "metadata": {
        "id": "9mie_djvLm7v"
      },
      "source": [
        "#### 1. Create a dictionary of your 10 favorite songs."
      ]
    },
    {
      "cell_type": "markdown",
      "metadata": {
        "id": "pIzZGNg2Lm7v"
      },
      "source": [
        "Example:\n",
        "\n",
        "|KEY|VALUE|\n",
        "|---|---|\n",
        "|001|My Love|\n",
        "|002|Like a rose|"
      ]
    },
    {
      "cell_type": "code",
      "execution_count": 1,
      "metadata": {
        "id": "SLCq9MzaLm7v",
        "colab": {
          "base_uri": "https://localhost:8080/"
        },
        "outputId": "e9d60c3d-2555-4f1c-db8b-2be818dc9111"
      },
      "outputs": [
        {
          "output_type": "execute_result",
          "data": {
            "text/plain": [
              "{'001': 'Middle',\n",
              " '002': 'Die for you',\n",
              " '003': 'Is there someone else?',\n",
              " '004': 'Chemical',\n",
              " '005': 'Reminder',\n",
              " '006': 'Homebody',\n",
              " '007': 'YK',\n",
              " '008': 'Praise The Lord ',\n",
              " '009': 'Runaway',\n",
              " '010': 'Moth To A Flame'}"
            ]
          },
          "metadata": {},
          "execution_count": 1
        }
      ],
      "source": [
        "AdiFav = {\n",
        "    \"001\": \"Middle\",\n",
        "    \"002\": \"Die for you\",\n",
        "    \"003\": \"Is there someone else?\",\n",
        "    \"004\": \"Chemical\",\n",
        "    \"005\": \"Reminder\",\n",
        "    \"006\": \"Homebody\",\n",
        "    \"007\": \"YK\",\n",
        "    \"008\": \"Praise The Lord \",\n",
        "    \"009\": \"Runaway\",\n",
        "    \"010\": \"Moth To A Flame\"\n",
        "}\n",
        "\n",
        "AdiFav"
      ]
    },
    {
      "cell_type": "markdown",
      "metadata": {
        "id": "xr9WGqvOLm7w"
      },
      "source": [
        "#### 2. Loop through the dictionary by its **key** and **value**"
      ]
    },
    {
      "cell_type": "code",
      "execution_count": 2,
      "metadata": {
        "id": "uH9XnCmNLm7w",
        "colab": {
          "base_uri": "https://localhost:8080/"
        },
        "outputId": "ee634162-6deb-42e0-9781-932787e6e186"
      },
      "outputs": [
        {
          "output_type": "stream",
          "name": "stdout",
          "text": [
            "001 Middle\n",
            "002 Die for you\n",
            "003 Is there someone else?\n",
            "004 Chemical\n",
            "005 Reminder\n",
            "006 Homebody\n",
            "007 YK\n",
            "008 Praise The Lord \n",
            "009 Runaway\n",
            "010 Moth To A Flame\n"
          ]
        }
      ],
      "source": [
        "AdiFav = {\n",
        "    \"001\": \"Middle\",\n",
        "    \"002\": \"Die for you\",\n",
        "    \"003\": \"Is there someone else?\",\n",
        "    \"004\": \"Chemical\",\n",
        "    \"005\": \"Reminder\",\n",
        "    \"006\": \"Homebody\",\n",
        "    \"007\": \"YK\",\n",
        "    \"008\": \"Praise The Lord \",\n",
        "    \"009\": \"Runaway\",\n",
        "    \"010\": \"Moth To A Flame\"\n",
        "}\n",
        "\n",
        "AdiFav\n",
        "for x, y in AdiFav.items():\n",
        "  print(x, y)"
      ]
    },
    {
      "cell_type": "markdown",
      "metadata": {
        "id": "kUfQVnRGLm7w"
      },
      "source": [
        "#### 3. Add one additional song"
      ]
    },
    {
      "cell_type": "code",
      "execution_count": 3,
      "metadata": {
        "id": "N41ULDcQLm7w",
        "colab": {
          "base_uri": "https://localhost:8080/"
        },
        "outputId": "3884da0e-da7b-49f3-b3ba-de5158c3e939"
      },
      "outputs": [
        {
          "output_type": "execute_result",
          "data": {
            "text/plain": [
              "{'001': 'Middle',\n",
              " '002': 'Die for you',\n",
              " '003': 'Is there someone else?',\n",
              " '004': 'Chemical',\n",
              " '005': 'Reminder',\n",
              " '006': 'Homebody',\n",
              " '007': 'YK',\n",
              " '008': 'Praise The Lord ',\n",
              " '009': 'Runaway',\n",
              " '010': 'Moth To A Flame',\n",
              " '011': 'Fetty'}"
            ]
          },
          "metadata": {},
          "execution_count": 3
        }
      ],
      "source": [
        "AdiFav[\"011\"] = \"Fetty\"\n",
        "AdiFav"
      ]
    },
    {
      "cell_type": "markdown",
      "metadata": {
        "id": "CGt7HvOXLm7w"
      },
      "source": [
        "#### 4. Remove one song"
      ]
    },
    {
      "cell_type": "code",
      "execution_count": 4,
      "metadata": {
        "id": "a52FGkCRLm7x",
        "colab": {
          "base_uri": "https://localhost:8080/"
        },
        "outputId": "57e05e95-ab1f-4473-da25-b394e260231f"
      },
      "outputs": [
        {
          "output_type": "execute_result",
          "data": {
            "text/plain": [
              "{'001': 'Middle',\n",
              " '002': 'Die for you',\n",
              " '003': 'Is there someone else?',\n",
              " '004': 'Chemical',\n",
              " '005': 'Reminder',\n",
              " '006': 'Homebody',\n",
              " '008': 'Praise The Lord ',\n",
              " '009': 'Runaway',\n",
              " '010': 'Moth To A Flame',\n",
              " '011': 'Fetty'}"
            ]
          },
          "metadata": {},
          "execution_count": 4
        }
      ],
      "source": [
        "AdiFav.pop(\"007\")\n",
        "AdiFav"
      ]
    },
    {
      "cell_type": "markdown",
      "metadata": {
        "id": "ALPlJu8PLm7x"
      },
      "source": [
        "#### 5. Create a nested dictionary of your 10 favorite songs with 5 genres. Display all of the items of the nested dictionary\n",
        "\n",
        "- Each nested dictionary's key should be the genre of the song\n",
        "- Put each song in their respective genre"
      ]
    },
    {
      "cell_type": "markdown",
      "metadata": {
        "id": "qy5K34mFLm7x"
      },
      "source": [
        "Example:\n",
        "\n",
        "\n",
        "|KEY|VALUE|\n",
        "|---|---|\n",
        "|Pop|{001, Baby}|\n",
        "|Rock|{001, Enter Sandman}|"
      ]
    },
    {
      "cell_type": "code",
      "execution_count": 8,
      "metadata": {
        "id": "uHGICZg9Lm7x",
        "colab": {
          "base_uri": "https://localhost:8080/"
        },
        "outputId": "22258f2a-4eb7-4cdd-9d68-17b763c3b96f"
      },
      "outputs": [
        {
          "output_type": "execute_result",
          "data": {
            "text/plain": [
              "{'Eectronic': {'001': 'Middle', '002': 'Runaway'},\n",
              " 'R&B': {'001': 'Die for you', '002': 'Homebody'},\n",
              " 'Rap': {'001': 'Praise The Lord', '002': 'Fetty'},\n",
              " 'Hip-Hop': {'001': 'Is there someone else?', '002': 'Moth To A Flame'},\n",
              " 'Pop-Rap': {'001': 'Chemical', '002': 'Reminder'}}"
            ]
          },
          "metadata": {},
          "execution_count": 8
        }
      ],
      "source": [
        "AdiFav = {\n",
        "   \"Eectronic\" : {\n",
        "    \"001\" : \"Middle\",\n",
        "    \"002\" : \"Runaway\",\n",
        "  },\n",
        "\n",
        "    \"R&B\" : {\n",
        "    \"001\" : \"Die for you\",\n",
        "    \"002\" : \"Homebody\",\n",
        "  },\n",
        "\n",
        "  \"Rap\" : {\n",
        "    \"001\" : \"Praise The Lord\",\n",
        "    \"002\" : \"Fetty\"\n",
        "  },\n",
        "   \"Hip-Hop\" : {\n",
        "    \"001\" : \"Is there someone else?\",\n",
        "    \"002\" : \"Moth To A Flame\"\n",
        "  },\n",
        "   \"Pop-Rap\" : {\n",
        "    \"001\" : \"Chemical\",\n",
        "    \"002\" : \"Reminder\"\n",
        "  },\n",
        "\n",
        "}\n",
        "\n",
        "AdiFav"
      ]
    },
    {
      "cell_type": "markdown",
      "metadata": {
        "id": "6T5fZsVbLm7x"
      },
      "source": [
        "#### 6. Print the first song of the first genre"
      ]
    },
    {
      "cell_type": "code",
      "execution_count": 13,
      "metadata": {
        "id": "hqzDtfbALm7x",
        "colab": {
          "base_uri": "https://localhost:8080/"
        },
        "outputId": "ca1fc067-311f-46d0-dda1-1f92a310ce4f"
      },
      "outputs": [
        {
          "output_type": "stream",
          "name": "stdout",
          "text": [
            "First song of the first genre:\n",
            "Middle\n"
          ]
        }
      ],
      "source": [
        "print(\"First song of the first genre:\")\n",
        "print(AdiFav[\"Eectronic\"][\"001\"])"
      ]
    },
    {
      "cell_type": "markdown",
      "metadata": {
        "id": "MtxVl6zPLm7y"
      },
      "source": [
        "#### 7. Print the first song of the last genre"
      ]
    },
    {
      "cell_type": "code",
      "execution_count": 12,
      "metadata": {
        "id": "Jzwco3LaLm7y",
        "colab": {
          "base_uri": "https://localhost:8080/"
        },
        "outputId": "e188a312-acd5-4002-d9a6-fe46d0f5ef55"
      },
      "outputs": [
        {
          "output_type": "stream",
          "name": "stdout",
          "text": [
            "First song of the last genre:\n",
            "Chemical\n"
          ]
        }
      ],
      "source": [
        "print(\"First song of the last genre:\")\n",
        "print(AdiFav[\"Pop-Rap\"][\"001\"])"
      ]
    }
  ],
  "metadata": {
    "kernelspec": {
      "display_name": "Python 3",
      "language": "python",
      "name": "python3"
    },
    "language_info": {
      "codemirror_mode": {
        "name": "ipython",
        "version": 3
      },
      "file_extension": ".py",
      "mimetype": "text/x-python",
      "name": "python",
      "nbconvert_exporter": "python",
      "pygments_lexer": "ipython3",
      "version": "3.11.4"
    },
    "orig_nbformat": 4,
    "colab": {
      "provenance": [],
      "include_colab_link": true
    }
  },
  "nbformat": 4,
  "nbformat_minor": 0
}